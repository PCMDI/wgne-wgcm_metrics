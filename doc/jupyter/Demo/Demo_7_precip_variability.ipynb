{
 "cells": [
  {
   "cell_type": "markdown",
   "metadata": {},
   "source": [
    "# Precipitation Variability Across Timescales"
   ]
  },
  {
   "cell_type": "markdown",
   "metadata": {},
   "source": [
    "This notebook demonstrates how to use the precipitation variability metrics driver. \n",
    "\n",
    "This notebook should be run in an environment with python, jupyterlab, pcmdi metrics package, and cdat installed. It is expected that you have downloaded the sample data as demonstrated in [the download notebook](Demo_0_download_data.ipynb).  \n",
    "\n",
    "The following cell reads in the choices you made during the download data step:"
   ]
  },
  {
   "cell_type": "code",
   "execution_count": 1,
   "metadata": {},
   "outputs": [],
   "source": [
    "from user_choices import demo_data_directory, demo_output_directory"
   ]
  },
  {
   "cell_type": "markdown",
   "metadata": {},
   "source": [
    "## Basic Use"
   ]
  },
  {
   "cell_type": "markdown",
   "metadata": {},
   "source": [
    "Use the `--help` flag for assistance with the precip variability driver:"
   ]
  },
  {
   "cell_type": "code",
   "execution_count": 2,
   "metadata": {},
   "outputs": [
    {
     "name": "stdout",
     "output_type": "stream",
     "text": [
      "usage: variability_across_timescales_PS_driver.py [-h]\n",
      "                                                  [--parameters PARAMETERS]\n",
      "                                                  [--diags OTHER_PARAMETERS [OTHER_PARAMETERS ...]]\n",
      "                                                  [--mip MIP] [--mod MOD]\n",
      "                                                  [--var VAR] [--frq FRQ]\n",
      "                                                  [--modpath MODPATH]\n",
      "                                                  [--results_dir RESULTS_DIR]\n",
      "                                                  [--case_id CASE_ID]\n",
      "                                                  [--prd PRD [PRD ...]]\n",
      "                                                  [--fac FAC]\n",
      "                                                  [--nperseg NPERSEG]\n",
      "                                                  [--noverlap NOVERLAP]\n",
      "                                                  [--ref REF] [--cmec]\n",
      "                                                  [--no_cmec]\n",
      "\n",
      "optional arguments:\n",
      "  -h, --help            show this help message and exit\n",
      "  --parameters PARAMETERS, -p PARAMETERS\n",
      "  --diags OTHER_PARAMETERS [OTHER_PARAMETERS ...], -d OTHER_PARAMETERS [OTHER_PARAMETERS ...]\n",
      "                        Path to other user-defined parameter file. (default:\n",
      "                        None)\n",
      "  --mip MIP             cmip5, cmip6 or other mip (default: None)\n",
      "  --mod MOD             model (default: None)\n",
      "  --var VAR             pr or other variable (default: None)\n",
      "  --frq FRQ             day, 3hr or other frequency (default: None)\n",
      "  --modpath MODPATH     data directory path (default: None)\n",
      "  --results_dir RESULTS_DIR\n",
      "                        results directory path (default: None)\n",
      "  --case_id CASE_ID     case_id with date (default: None)\n",
      "  --prd PRD [PRD ...]   list of start- and end-year for analysis (default:\n",
      "                        None)\n",
      "  --fac FAC             factor to make unit of [mm/day] (default: None)\n",
      "  --nperseg NPERSEG     length of segment in power spectra (default: None)\n",
      "  --noverlap NOVERLAP   length of overlap between segments in power spectra\n",
      "                        (default: None)\n",
      "  --ref REF             reference data path (default: None)\n",
      "  --cmec                Use to save CMEC format metrics JSON (default: False)\n",
      "  --no_cmec             Do not save CMEC format metrics JSON (default: False)\n"
     ]
    }
   ],
   "source": [
    "%%bash\n",
    "variability_across_timescales_PS_driver.py --help"
   ]
  },
  {
   "cell_type": "markdown",
   "metadata": {},
   "source": [
    "Settings are specified in a separate parameter file, which is printed here:"
   ]
  },
  {
   "cell_type": "code",
   "execution_count": 3,
   "metadata": {},
   "outputs": [
    {
     "name": "stdout",
     "output_type": "stream",
     "text": [
      "mip = \"cmip5\"\n",
      "exp = \"historical\"\n",
      "mod = \"GISS-E2-H\"\n",
      "var = \"pr\"\n",
      "frq = \"day\"\n",
      "modpath = 'demo_data_standard/CMIP5_demo_precip_var/'\n",
      "results_dir = 'demo_output/precip_variability/GISS-E2-H/'\n",
      "prd = [2000,2001]  # analysis period\n",
      "fac = 86400  # factor to make unit of [mm/day]\n",
      "\n",
      "# length of segment in power spectra (~10 years)\n",
      "# shortened to 2 years for demo purposes\n",
      "nperseg = 2 * 365\n",
      "# length of overlap between segments in power spectra (~5 years)\n",
      "# shortened to 1 year for demo purposes\n",
      "noverlap = 1 * 365\n",
      "\n",
      "# flag for cmec formatted JSON\n",
      "cmec = False\n",
      "\n"
     ]
    }
   ],
   "source": [
    "# print parameter file\n",
    "with open(\"basic_precip_variability_param.py\") as f:\n",
    "    print(f.read())"
   ]
  },
  {
   "cell_type": "markdown",
   "metadata": {},
   "source": [
    "The parameter file is passed to the driver using the `-p` flag, similar to other PMP metrics. The next cell runs the driver as a subprocess:"
   ]
  },
  {
   "cell_type": "code",
   "execution_count": 4,
   "metadata": {},
   "outputs": [
    {
     "name": "stdout",
     "output_type": "stream",
     "text": [
      "demo_data_standard/CMIP5_demo_precip_var/\n",
      "GISS-E2-H\n",
      "[2000, 2001]\n",
      "730 365\n",
      "demo_output/precip_variability/GISS-E2-H/\n",
      "demo_output/precip_variability/GISS-E2-H/\n",
      "demo_output/precip_variability/GISS-E2-H/\n",
      "# of data: 1\n",
      "['GISS-E2-H.r6i1p1']\n",
      "GISS-E2-H.r6i1p1 365_day\n",
      "Complete regridding from (365, 90, 144) to (365, 90, 180)\n",
      "2000 (365, 90, 180)\n",
      "Complete regridding from (365, 90, 144) to (365, 90, 180)\n",
      "2001 (730, 90, 180)\n",
      "Complete calculating climatology and anomaly for calendar of 365_day\n",
      "Complete power spectra (segment:  730  nps: 1.0 )\n",
      "Complete domain and frequency average of spectral power\n",
      "Complete power spectra (segment:  730  nps: 1.0 )\n",
      "Complete domain and frequency average of spectral power\n"
     ]
    },
    {
     "name": "stderr",
     "output_type": "stream",
     "text": [
      "INFO::2021-07-09 12:25::pcmdi_metrics:: Results saved to a json file: /Users/ordonez4/Documents/git/pcmdi_metrics/doc/jupyter/Demo/demo_output/precip_variability/GISS-E2-H/PS_pr.day_regrid.180x90_area.freq.mean_GISS-E2-H.r6i1p1.json\n"
     ]
    }
   ],
   "source": [
    "%%bash\n",
    "variability_across_timescales_PS_driver.py -p basic_precip_variability_param.py"
   ]
  },
  {
   "cell_type": "markdown",
   "metadata": {},
   "source": [
    "Running the precipitation variability driver produces three output files, found in the demo output directory:  \n",
    "Spatial pattern of spectral power (forced variability) (netCDF)   \n",
    "Spatial pattern of spectral power (unforced variability) (netCDF)  \n",
    "Precipitation variability metrics (forced and unforced) (JSON)  "
   ]
  },
  {
   "cell_type": "code",
   "execution_count": 5,
   "metadata": {},
   "outputs": [
    {
     "name": "stdout",
     "output_type": "stream",
     "text": [
      "PS_pr.day_regrid.180x90_GISS-E2-H.r6i1p1.nc\r\n",
      "PS_pr.day_regrid.180x90_GISS-E2-H.r6i1p1_unforced.nc\r\n",
      "PS_pr.day_regrid.180x90_area.freq.mean_GISS-E2-H.r6i1p1.json\r\n"
     ]
    }
   ],
   "source": [
    "!ls {demo_output_directory + \"/precip_variability/GISS-E2-H\"}"
   ]
  },
  {
   "cell_type": "markdown",
   "metadata": {},
   "source": [
    "The next cell displays the metrics from the JSON file."
   ]
  },
  {
   "cell_type": "code",
   "execution_count": 6,
   "metadata": {},
   "outputs": [
    {
     "name": "stdout",
     "output_type": "stream",
     "text": [
      "{\n",
      "  \"GISS-E2-H.r6i1p1\": {\n",
      "    \"forced\": {\n",
      "      \"Land_30N50N\": {\n",
      "        \"annual\": 1.1587082092242942,\n",
      "        \"semi-annual\": 0.41744881229451547\n",
      "      },\n",
      "      \"Land_30S30N\": {\n",
      "        \"annual\": 6.971767234863867,\n",
      "        \"semi-annual\": 1.1463392061273523\n",
      "      },\n",
      "      \"Land_50S30S\": {\n",
      "        \"annual\": 0.6081871639608728,\n",
      "        \"semi-annual\": 0.30708232514267686\n",
      "      },\n",
      "      \"Land_50S50N\": {\n",
      "        \"annual\": 4.864266970917859,\n",
      "        \"semi-annual\": 0.880099077324579\n",
      "      },\n",
      "      \"Ocean_30N50N\": {\n",
      "        \"annual\": 1.573720339534381,\n",
      "        \"semi-annual\": 0.31178472575620936\n",
      "      },\n",
      "      \"Ocean_30S30N\": {\n",
      "        \"annual\": 4.868478624745868,\n",
      "        \"semi-annual\": 1.485758806678225\n",
      "      },\n",
      "      \"Ocean_50S30S\": {\n",
      "        \"annual\": 0.548059204349184,\n",
      "        \"semi-annual\": 0.18055034836612316\n",
      "      },\n",
      "      \"Ocean_50S50N\": {\n",
      "        \"annual\": 3.513253986567687,\n",
      "        \"semi-annual\": 1.0538758410901587\n",
      "      },\n",
      "      \"Total_30N50N\": {\n",
      "        \"annual\": 1.3812039923006247,\n",
      "        \"semi-annual\": 0.3608003146715204\n",
      "      },\n",
      "      \"Total_30S30N\": {\n",
      "        \"annual\": 5.406034904455674,\n",
      "        \"semi-annual\": 1.3990103039501665\n",
      "      },\n",
      "      \"Total_50S30S\": {\n",
      "        \"annual\": 0.5523773932374175,\n",
      "        \"semi-annual\": 0.18963745159815273\n",
      "      },\n",
      "      \"Total_50S50N\": {\n",
      "        \"annual\": 3.864301569299963,\n",
      "        \"semi-annual\": 1.0087216393455416\n",
      "      }\n",
      "    },\n",
      "    \"unforced\": {\n",
      "      \"Land_30N50N\": {\n",
      "        \"interannual\": 0.06635627706591331,\n",
      "        \"seasonal-annual\": 0.08165208192872926,\n",
      "        \"sub-seasonal\": 0.08297536168687832,\n",
      "        \"synoptic\": 0.03693918226671657\n",
      "      },\n",
      "      \"Land_30S30N\": {\n",
      "        \"interannual\": 0.20881863421530666,\n",
      "        \"seasonal-annual\": 0.18679231876879562,\n",
      "        \"sub-seasonal\": 0.14124320010246763,\n",
      "        \"synoptic\": 0.045014286561239146\n",
      "      },\n",
      "      \"Land_50S30S\": {\n",
      "        \"interannual\": 0.08746390817662404,\n",
      "        \"seasonal-annual\": 0.12023269741857422,\n",
      "        \"sub-seasonal\": 0.10418675545976613,\n",
      "        \"synoptic\": 0.042044212751936184\n",
      "      },\n",
      "      \"Land_50S50N\": {\n",
      "        \"interannual\": 0.15883007364855062,\n",
      "        \"seasonal-annual\": 0.1510037007413535,\n",
      "        \"sub-seasonal\": 0.121401305115945,\n",
      "        \"synoptic\": 0.04236840658752689\n",
      "      },\n",
      "      \"Ocean_30N50N\": {\n",
      "        \"interannual\": 0.07042213020866445,\n",
      "        \"seasonal-annual\": 0.09333317558974498,\n",
      "        \"sub-seasonal\": 0.09776880413255953,\n",
      "        \"synoptic\": 0.05792486712215464\n",
      "      },\n",
      "      \"Ocean_30S30N\": {\n",
      "        \"interannual\": 0.4409230544218321,\n",
      "        \"seasonal-annual\": 0.36413908628474917,\n",
      "        \"sub-seasonal\": 0.2516928245443616,\n",
      "        \"synoptic\": 0.06826791573651847\n",
      "      },\n",
      "      \"Ocean_50S30S\": {\n",
      "        \"interannual\": 0.074287478920634,\n",
      "        \"seasonal-annual\": 0.08895396410638018,\n",
      "        \"sub-seasonal\": 0.06963407531912914,\n",
      "        \"synoptic\": 0.04019969183618865\n",
      "      },\n",
      "      \"Ocean_50S50N\": {\n",
      "        \"interannual\": 0.3144834280957515,\n",
      "        \"seasonal-annual\": 0.2701532018055301,\n",
      "        \"sub-seasonal\": 0.19268736694371766,\n",
      "        \"synoptic\": 0.06085484183894411\n",
      "      },\n",
      "      \"Total_30N50N\": {\n",
      "        \"interannual\": 0.06853605715618175,\n",
      "        \"seasonal-annual\": 0.08791453521980243,\n",
      "        \"sub-seasonal\": 0.09090640350699856,\n",
      "        \"synoptic\": 0.048190001325463215\n",
      "      },\n",
      "      \"Total_30S30N\": {\n",
      "        \"interannual\": 0.3816020520495415,\n",
      "        \"seasonal-annual\": 0.31881298690598253,\n",
      "        \"sub-seasonal\": 0.2234642262793812,\n",
      "        \"synoptic\": 0.06232477777196052\n",
      "      },\n",
      "      \"Total_50S30S\": {\n",
      "        \"interannual\": 0.07523376598520871,\n",
      "        \"seasonal-annual\": 0.09120029808310266,\n",
      "        \"sub-seasonal\": 0.07211553320337401,\n",
      "        \"synoptic\": 0.040332159157114474\n",
      "      },\n",
      "      \"Total_50S50N\": {\n",
      "        \"interannual\": 0.2740384179768128,\n",
      "        \"seasonal-annual\": 0.23919336291659846,\n",
      "        \"sub-seasonal\": 0.17416437717454086,\n",
      "        \"synoptic\": 0.05605132145570498\n",
      "      }\n",
      "    }\n",
      "  }\n",
      "}\n"
     ]
    }
   ],
   "source": [
    "import json\n",
    "import os\n",
    "output_path = os.path.join(demo_output_directory,\"precip_variability/GISS-E2-H/PS_pr.day_regrid.180x90_area.freq.mean_GISS-E2-H.r6i1p1.json\")\n",
    "with open(output_path) as f:\n",
    "    metric = json.load(f)[\"RESULTS\"]\n",
    "print(json.dumps(metric, indent=2))"
   ]
  },
  {
   "cell_type": "markdown",
   "metadata": {},
   "source": [
    "## Command line parameters with Obs data"
   ]
  },
  {
   "cell_type": "markdown",
   "metadata": {},
   "source": [
    "To calculate the precipitation variability ratio, we also need results for a reference dataset. This example shows how to use the command line to call the `variability_across_timescales_PS_driver` using daily obs precipitation data. The command line arguments will overwrite values that are in the parameter file.  \n",
    "\n",
    "In this example, the `mod` variable is set to an obs file name so that only a single file is used as input."
   ]
  },
  {
   "cell_type": "code",
   "execution_count": 7,
   "metadata": {},
   "outputs": [
    {
     "name": "stdout",
     "output_type": "stream",
     "text": [
      "demo_data_standard/PCMDIobs2/atmos/day/pr/GPCP-IP/gn/v20200719/\n",
      "pr.day.GPCP-IP.BE.gn.v20200719.1998-1999.xml\n",
      "[1998, 1999]\n",
      "730 365\n",
      "demo_output/precip_variability/GPCP-IP/\n",
      "demo_output/precip_variability/GPCP-IP/\n",
      "demo_output/precip_variability/GPCP-IP/\n",
      "# of data: 1\n",
      "['GPCP-IP']\n",
      "GPCP-IP gregorian\n",
      "Complete regridding from (365, 180, 360) to (365, 90, 180)\n",
      "1998 (365, 90, 180)\n",
      "Complete regridding from (365, 180, 360) to (365, 90, 180)\n",
      "1999 (730, 90, 180)\n",
      "Complete calculating climatology and anomaly for calendar of gregorian\n",
      "Complete power spectra (segment:  730  nps: 1.0 )\n",
      "Complete domain and frequency average of spectral power\n",
      "Complete power spectra (segment:  730  nps: 1.0 )\n",
      "Complete domain and frequency average of spectral power\n"
     ]
    },
    {
     "name": "stderr",
     "output_type": "stream",
     "text": [
      "/Users/ordonez4/miniconda3/envs/test_pcmdi/lib/python3.8/site-packages/pcmdi_metrics-v1.2.1_756_gac3a8d11-py3.8.egg/pcmdi_metrics/precip_variability/lib/lib_variability_across_timescales.py:229: UserWarning: Warning: converting a masked element to nan.\n",
      "INFO::2021-07-09 12:26::pcmdi_metrics:: Results saved to a json file: /Users/ordonez4/Documents/git/pcmdi_metrics/doc/jupyter/Demo/demo_output/precip_variability/GPCP-IP/PS_pr.day_regrid.180x90_area.freq.mean_GPCP-IP.json\n"
     ]
    }
   ],
   "source": [
    "%%bash\n",
    "variability_across_timescales_PS_driver.py -p basic_precip_variability_param.py \\\n",
    "--mip 'obs' \\\n",
    "--mod 'pr.day.GPCP-IP.BE.gn.v20200719.1998-1999.xml' \\\n",
    "--modpath 'demo_data_standard/PCMDIobs2/atmos/day/pr/GPCP-IP/gn/v20200719/' \\\n",
    "--results_dir 'demo_output/precip_variability/GPCP-IP/' \\\n",
    "--prd 1998 1999"
   ]
  },
  {
   "cell_type": "markdown",
   "metadata": {},
   "source": [
    "## Precipitation Variability Ratio"
   ]
  },
  {
   "cell_type": "markdown",
   "metadata": {},
   "source": [
    "Once model and observational results are available, the ratio of those results can be derived. A script called \"calc_ratio.py\" is provided in the precip_variability codebase. This script can be called with three arguments to generate the ratio.  \n",
    "`ref`: path to obs results JSON  \n",
    "`modpath`: directory containing model results JSONS (not CMEC formatted JSONs)  \n",
    "`results_dir`: directory for calc_ratio.py results"
   ]
  },
  {
   "cell_type": "code",
   "execution_count": 8,
   "metadata": {},
   "outputs": [
    {
     "name": "stdout",
     "output_type": "stream",
     "text": [
      "reference:  demo_output/precip_variability/GPCP-IP/PS_pr.day_regrid.180x90_area.freq.mean_GPCP-IP.json\n",
      "modpath:  demo_output/precip_variability/GISS-E2-H/\n",
      "outdir:  demo_output/precip_variability/ratio/\n",
      "['demo_output/precip_variability/GISS-E2-H/PS_pr.day_regrid.180x90_area.freq.mean_GISS-E2-H.r6i1p1.json']\n",
      "Complete  GISS-E2-H.r6i1p1\n",
      "Complete all\n"
     ]
    }
   ],
   "source": [
    "%%bash\n",
    "python ../../../pcmdi_metrics/precip_variability/scripts_pcmdi/calc_ratio.py \\\n",
    "--ref demo_output/precip_variability/GPCP-IP/PS_pr.day_regrid.180x90_area.freq.mean_GPCP-IP.json \\\n",
    "--modpath demo_output/precip_variability/GISS-E2-H/ \\\n",
    "--results_dir demo_output/precip_variability/ratio/"
   ]
  },
  {
   "cell_type": "markdown",
   "metadata": {},
   "source": [
    "This outputs one JSON file in the `results_dir` folder. The results in this file are shown below."
   ]
  },
  {
   "cell_type": "code",
   "execution_count": 9,
   "metadata": {},
   "outputs": [
    {
     "name": "stdout",
     "output_type": "stream",
     "text": [
      "{\n",
      "  \"GISS-E2-H.r6i1p1\": {\n",
      "    \"forced\": {\n",
      "      \"Land_30N50N\": {\n",
      "        \"annual\": 1.1537856241415303,\n",
      "        \"semi-annual\": 1.7543960179382367\n",
      "      },\n",
      "      \"Land_30S30N\": {\n",
      "        \"annual\": 1.3152720576800716,\n",
      "        \"semi-annual\": 1.4256044893620052\n",
      "      },\n",
      "      \"Land_50S30S\": {\n",
      "        \"annual\": 1.175809836833849,\n",
      "        \"semi-annual\": 2.291683414592525\n",
      "      },\n",
      "      \"Land_50S50N\": {\n",
      "        \"annual\": 1.1763458183200783,\n",
      "        \"semi-annual\": 1.3574907470709596\n",
      "      },\n",
      "      \"Ocean_30N50N\": {\n",
      "        \"annual\": 1.0003034577121472,\n",
      "        \"semi-annual\": 0.6190454959638267\n",
      "      },\n",
      "      \"Ocean_30S30N\": {\n",
      "        \"annual\": 1.6110406656682628,\n",
      "        \"semi-annual\": 1.862277868902164\n",
      "      },\n",
      "      \"Ocean_50S30S\": {\n",
      "        \"annual\": 1.3540300994055696,\n",
      "        \"semi-annual\": 0.975470587624899\n",
      "      },\n",
      "      \"Ocean_50S50N\": {\n",
      "        \"annual\": 1.5478170476412825,\n",
      "        \"semi-annual\": 1.6797755428644254\n",
      "      },\n",
      "      \"Total_30N50N\": {\n",
      "        \"annual\": 1.032701509496752,\n",
      "        \"semi-annual\": 0.7945164343833836\n",
      "      },\n",
      "      \"Total_30S30N\": {\n",
      "        \"annual\": 1.4998726216553802,\n",
      "        \"semi-annual\": 1.7500197123678949\n",
      "      },\n",
      "      \"Total_50S30S\": {\n",
      "        \"annual\": 1.3379939292599692,\n",
      "        \"semi-annual\": 1.0452879296865365\n",
      "      },\n",
      "      \"Total_50S50N\": {\n",
      "        \"annual\": 1.407469251893472,\n",
      "        \"semi-annual\": 1.5659257983183077\n",
      "      }\n",
      "    },\n",
      "    \"unforced\": {\n",
      "      \"Land_30N50N\": {\n",
      "        \"interannual\": 1.109758421286638,\n",
      "        \"seasonal-annual\": 1.1547292810145242,\n",
      "        \"sub-seasonal\": 1.188443651678995,\n",
      "        \"synoptic\": 0.743430376662734\n",
      "      },\n",
      "      \"Land_30S30N\": {\n",
      "        \"interannual\": 1.443639870439003,\n",
      "        \"seasonal-annual\": 1.5602903020597274,\n",
      "        \"sub-seasonal\": 1.1697973516723998,\n",
      "        \"synoptic\": 0.6286387363408106\n",
      "      },\n",
      "      \"Land_50S30S\": {\n",
      "        \"interannual\": 1.1138351318199107,\n",
      "        \"seasonal-annual\": 1.594323680403984,\n",
      "        \"sub-seasonal\": 1.118325305463511,\n",
      "        \"synoptic\": 0.6503065211727522\n",
      "      },\n",
      "      \"Land_50S50N\": {\n",
      "        \"interannual\": 1.2893633376914386,\n",
      "        \"seasonal-annual\": 1.4114443008130744,\n",
      "        \"sub-seasonal\": 1.118633874870601,\n",
      "        \"synoptic\": 0.6359862564158946\n",
      "      },\n",
      "      \"Ocean_30N50N\": {\n",
      "        \"interannual\": 0.6746122331738161,\n",
      "        \"seasonal-annual\": 0.48383908749971516,\n",
      "        \"sub-seasonal\": 0.5285996231397332,\n",
      "        \"synoptic\": 0.40702380228648666\n",
      "      },\n",
      "      \"Ocean_30S30N\": {\n",
      "        \"interannual\": 0.6485785403789868,\n",
      "        \"seasonal-annual\": 1.3374999381415642,\n",
      "        \"sub-seasonal\": 1.028659813395668,\n",
      "        \"synoptic\": 0.7045347631843653\n",
      "      },\n",
      "      \"Ocean_50S30S\": {\n",
      "        \"interannual\": 0.8023967380987559,\n",
      "        \"seasonal-annual\": 0.9748692119789154,\n",
      "        \"sub-seasonal\": 0.5390351778085705,\n",
      "        \"synoptic\": 0.4113273173153872\n",
      "      },\n",
      "      \"Ocean_50S50N\": {\n",
      "        \"interannual\": 0.6557576352215531,\n",
      "        \"seasonal-annual\": 1.212228128368839,\n",
      "        \"sub-seasonal\": 0.9088263329353639,\n",
      "        \"synoptic\": 0.59202099715361\n",
      "      },\n",
      "      \"Total_30N50N\": {\n",
      "        \"interannual\": 0.7279471781663519,\n",
      "        \"seasonal-annual\": 0.5634669505198352,\n",
      "        \"sub-seasonal\": 0.68113251294017,\n",
      "        \"synoptic\": 0.49769446881118057\n",
      "      },\n",
      "      \"Total_30S30N\": {\n",
      "        \"interannual\": 0.7027034883060286,\n",
      "        \"seasonal-annual\": 1.366722577699079,\n",
      "        \"sub-seasonal\": 1.0491071315145672,\n",
      "        \"synoptic\": 0.6891757749300347\n",
      "      },\n",
      "      \"Total_50S30S\": {\n",
      "        \"interannual\": 0.8215763770865346,\n",
      "        \"seasonal-annual\": 1.012100497638026,\n",
      "        \"sub-seasonal\": 0.5696509832899281,\n",
      "        \"synoptic\": 0.42296389351335734\n",
      "      },\n",
      "      \"Total_50S50N\": {\n",
      "        \"interannual\": 0.674215490522759,\n",
      "        \"seasonal-annual\": 1.2103246129391476,\n",
      "        \"sub-seasonal\": 0.9283184307378077,\n",
      "        \"synoptic\": 0.6085945965233021\n",
      "      }\n",
      "    }\n",
      "  }\n",
      "}\n"
     ]
    }
   ],
   "source": [
    "output_path = os.path.join(demo_output_directory,\"precip_variability/ratio/PS_pr.day_regrid.180x90_area.freq.mean_GISS-E2-H.r6i1p1.json\")\n",
    "with open(output_path) as f:\n",
    "    metric = json.load(f)[\"RESULTS\"]\n",
    "print(json.dumps(metric, indent=2))"
   ]
  },
  {
   "cell_type": "code",
   "execution_count": null,
   "metadata": {},
   "outputs": [],
   "source": []
  }
 ],
 "metadata": {
  "kernelspec": {
   "display_name": "Python 3",
   "language": "python",
   "name": "python3"
  },
  "language_info": {
   "codemirror_mode": {
    "name": "ipython",
    "version": 3
   },
   "file_extension": ".py",
   "mimetype": "text/x-python",
   "name": "python",
   "nbconvert_exporter": "python",
   "pygments_lexer": "ipython3",
   "version": "3.8.6"
  }
 },
 "nbformat": 4,
 "nbformat_minor": 4
}
